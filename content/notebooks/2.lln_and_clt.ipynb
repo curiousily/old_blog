{
 "cells": [
  {
   "cell_type": "markdown",
   "metadata": {
    "collapsed": true
   },
   "source": [
    "Ivan won the lottery today! Life can be really good now! But he is smart. He heard that there is an easy way to make even more money by creating his own **startup**. He doesn't know what this means but his friend Tonny is making a lot of money from his. How hard can it be?\n",
    "\n",
    "Now, he just needs an idea for a product, really cool one! It must be really innovative, he says to himself! An idea comes in a flash: he always wanted his own casino!\n",
    "\n",
    "Ivan is sure of one thing, he must start with a roulette. After all, every respectable casino has a roulette (even in his own country). But will he make money from it?\n",
    "\n",
    "Ivan went to the **candy shop** (nope, not that one, might want to try a Tor search) and found two different types of roulletes. The *European* version (on the left) has 37 pockets with 18 of them red, 18 of them black and *1* green. While the *American* version (on the right) has 38 pockets with 18 of them red, 18 of them black and *2* greens."
   ]
  },
  {
   "cell_type": "markdown",
   "metadata": {},
   "source": [
    "<img src=\"http://datagenetics.com/blog/july12015/wh.png\" style=\"width: 520px;\">\n",
    "\n",
    "<h5 align=\"center\">Image courtesy of <a href=\"http://datagenetics.com/index.html\" target=\"_blank\">datagenetics</a></h5>"
   ]
  },
  {
   "cell_type": "markdown",
   "metadata": {},
   "source": [
    "A single question kept him awake that night: With which one I will make more money? Moreover, how can I be sure?\n",
    "\n",
    "Of course Ivan had heard that the *American* is more profitable because it had one more spot on which the gamblers can't put money on. But was this really true? Can he test it with those particular roulettes?\n",
    "\n",
    "First thing in the morning he bought two roulette wheels (one of each kind) and started preparing for an experiment. It was gonna be a long day!"
   ]
  },
  {
   "cell_type": "markdown",
   "metadata": {},
   "source": [
    "Ivan put the two roulette wheels next to each other and started placing a bet and spinning each wheel. He simplified things a bit and allow himself to bet on either red or black. To choose his bet he throws a fair coin so that the probability of placing a red bet is 50% and that of placing a bet on black is 50%."
   ]
  },
  {
   "cell_type": "markdown",
   "metadata": {},
   "source": [
    "# Law of Large Numbers"
   ]
  },
  {
   "cell_type": "markdown",
   "metadata": {},
   "source": [
    "A famous result Ivan heard about is the Law of Large Numbers. Simply put the law states that if you repeat a random experiment, many, many, many times, your outcomes should on average be equal to the theoretical average.\n",
    "\n",
    "For example, if you toss a fair coin you can't predict how many heads and tails you'll get. But your estimate might be 50 heads and 50 tails since you believe that the coin is fair (What if you get 100 heads and 0 tails?). The law of large numbers tells us that the more samples we take (i.e. more times we throw the coin) the more accurate our result will be.\n",
    "\n",
    "More formal definition by [Wolfram](http://mathworld.wolfram.com/LawofLargeNumbers.html) is:\n",
    "\n",
    "> A \"law of large numbers\" is one of several theorems expressing the idea that as the number of trials of a random process increases, the percentage difference between the expected and actual values goes to zero.\n",
    "\n",
    "## Definition\n",
    "\n",
    "Given a random variable $X$ and it's expected value $E(X)$. If we take a sample of $n$ observations from $X$ and average it $\\overline{X_n}=\\frac{x_1+x_2+...+x_n}{n}$ then $\\overline{X_n} \\rightarrow E(X)$ for $n \\rightarrow \\infty$.\n"
   ]
  },
  {
   "cell_type": "markdown",
   "metadata": {},
   "source": [
    "References\n",
    "\n",
    "* [Dr. Math on Law of Large Numbers](http://mathforum.org/library/drmath/view/52799.html)"
   ]
  },
  {
   "cell_type": "code",
   "execution_count": null,
   "metadata": {
    "collapsed": true
   },
   "outputs": [],
   "source": []
  }
 ],
 "metadata": {
  "kernelspec": {
   "display_name": "Python 3",
   "language": "python",
   "name": "python3"
  },
  "language_info": {
   "codemirror_mode": {
    "name": "ipython",
    "version": 3
   },
   "file_extension": ".py",
   "mimetype": "text/x-python",
   "name": "python",
   "nbconvert_exporter": "python",
   "pygments_lexer": "ipython3",
   "version": "3.5.1"
  }
 },
 "nbformat": 4,
 "nbformat_minor": 0
}

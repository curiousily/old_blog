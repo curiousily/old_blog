{
 "cells": [
  {
   "cell_type": "markdown",
   "metadata": {},
   "source": [
    "# Reinforcement Learning"
   ]
  },
  {
   "cell_type": "markdown",
   "metadata": {
    "collapsed": true
   },
   "source": [
    "<img src=\"https://paramitamohamad.files.wordpress.com/2014/03/stivers-2-10-03-pavlovs-dogs-1.gif\" style=\"width: 520px;\">\n",
    "\n",
    "<h5 align=\"center\">Image courtesy of <a href=\"http://www.uxmatters.com/\" target=\"_blank\">UX matters</a></h5>"
   ]
  },
  {
   "cell_type": "markdown",
   "metadata": {},
   "source": [
    "Let's take a look at an example. You know the game of **Pong**, right? If you don't take a look at this:\n",
    "\n",
    "<img src=\"http://bavatuesdays.com/files/2012/02/1pong.gif\" style=\"width: 520px;\">\n",
    "\n",
    "You can even try to play against \"AI\" created by [Oakly Hall](http://blog.flowstate.io/) here: http://blog.flowstate.io/react-pong/\n",
    "\n",
    "Now you got the gist of it, right? You just have to make sure that the ball passes behind your opponent's paddle more often than yours.\n",
    "\n",
    "But that AI is hard to beat (at least for me - it really is!). Can we create another one (preferably better) to kick his a\\**? Let's give Reinforcement Learning (RL) a try!\n",
    "\n",
    "**Reinforcement Learning** can be viewed as part of AI/Machine Learning that tries to maximize future reward $R$ given the current state $S$ of an environment and a set of possible actions $A$. The entity that chooses the next action is typically called an **Agent** (Agents are not bad, right?).\n",
    "\n",
    "<img src=\"https://webdocs.cs.ualberta.ca/~sutton/book/ebook/figtmp7.png\" style=\"width: 520px;\">\n",
    "\n",
    "<h5 align=\"center\">Image courtesy of <a href=\"https://webdocs.cs.ualberta.ca/~sutton/book/ebook/the-book.html\" target=\"_blank\">Sutton & Barto book</a></h5>\n",
    "\n",
    "Concretely, when playing **Pong** you can choose 1 of 3 actions at any time: Up, Down and Do Nothing. Rewards are simple too: positive reward if you score, negative reward if your opponent scores and neutral in any other case (you might get picky here and you will be somewhat right - if you are just about to score, your reward shouldn't be neutral). The state of the environment is determined by your paddle, that of the opponent and the position of the ball.\n",
    "\n",
    "Okay, we've got a framework in which to represent the game. Are we ready to write some code? Not yet! We need to learn how to play!\n",
    "\n",
    "# Pumping Iron (Ready for the Gym?)"
   ]
  },
  {
   "cell_type": "code",
   "execution_count": 1,
   "metadata": {
    "collapsed": false
   },
   "outputs": [
    {
     "data": {
      "image/jpeg": "[encoded data removed]",
      "text/html": [
       "\n",
       "        <iframe\n",
       "            width=\"640\"\n",
       "            height=\"480\"\n",
       "            src=\"https://www.youtube.com/embed/A6SJf1TcMks\"\n",
       "            frameborder=\"0\"\n",
       "            allowfullscreen\n",
       "        ></iframe>\n",
       "        "
      ],
      "text/plain": [
       "<IPython.lib.display.YouTubeVideo at 0x110f1a390>"
      ]
     },
     "execution_count": 1,
     "metadata": {},
     "output_type": "execute_result"
    }
   ],
   "source": [
    "from IPython.display import YouTubeVideo\n",
    "\n",
    "YouTubeVideo(\"A6SJf1TcMks\", width=640, height=480)"
   ]
  },
  {
   "cell_type": "markdown",
   "metadata": {},
   "source": [
    "First of we need a place to \"play\" the game of Pong. [Gym](https://gym.openai.com/), created by [OpenAI](https://openai.com/), is a toolkit for developing and evaluating Reinforcement Learning algorithms. Think of it as a playground for RL experiments.\n",
    "\n",
    "Luckily for us, **Gym** provides an interface for many Atari 2600 games, including Pong. Let's learn to use it, shall we?\n",
    "\n",
    "Following closely the diagram above, Gym provides an environment for various RL tasks. One can easily retrieve the previous observation (state) and reward given an environment. Using those an action can be chosen to change its state and obtain the reward:\n",
    "\n",
    "`observation, reward, done, info = environment.step(action)`\n",
    "\n",
    "Concretely, in the game of Pong, an observation is a screenshot of the screen and the reward is the score obtained after choosing an action.\n",
    "\n",
    "# Preparing for a workout\n",
    "\n",
    "Let's setup the the environment. Take a look of the lib versions at the time of writing this:"
   ]
  },
  {
   "cell_type": "code",
   "execution_count": 2,
   "metadata": {
    "collapsed": false
   },
   "outputs": [
    {
     "name": "stdout",
     "output_type": "stream",
     "text": [
      "CPython 3.5.1\n",
      "IPython 5.1.0\n",
      "\n",
      "numpy 1.11.1\n",
      "theano 0.8.2\n",
      "tensorflow 0.10.0\n",
      "keras 1.0.8\n",
      "gym 0.2.11\n",
      "\n",
      "compiler   : GCC 4.2.1 Compatible Apple LLVM 7.0.2 (clang-700.1.81)\n",
      "system     : Darwin\n",
      "release    : 15.6.0\n",
      "machine    : x86_64\n",
      "processor  : i386\n",
      "CPU cores  : 8\n",
      "interpreter: 64bit\n"
     ]
    }
   ],
   "source": [
    "%load_ext watermark\n",
    "%watermark -v -m -p numpy,theano,tensorflow,keras,gym"
   ]
  },
  {
   "cell_type": "markdown",
   "metadata": {},
   "source": [
    "and the setup"
   ]
  },
  {
   "cell_type": "code",
   "execution_count": 3,
   "metadata": {
    "collapsed": true
   },
   "outputs": [],
   "source": [
    "import numpy as np\n",
    "from PIL import Image\n",
    "import gym\n",
    "\n",
    "import warnings\n",
    "\n",
    "warnings.filterwarnings('ignore')\n",
    "\n",
    "random_state = 42\n",
    "np.random.seed(random_state);"
   ]
  },
  {
   "cell_type": "markdown",
   "metadata": {},
   "source": [
    "**Gym** returns the full RGB screen with a width of 210 px and height of 160 px when taking a step in the environment. That means we have input of size $n = 210 * 160 * 3 = 100800$. That a bit too big, right? Let's downsample it to $n = 80 * 80 * 3 = 19200$."
   ]
  },
  {
   "cell_type": "code",
   "execution_count": 4,
   "metadata": {
    "collapsed": true
   },
   "outputs": [],
   "source": [
    "def downsample(observation, new_shape=(80, 80)):\n",
    "    \"\"\" Go from 210x160x3 to 80x80x3 (by default) 3D float vector \"\"\"\n",
    "    img = Image.fromarray(observation)\n",
    "    img = img.resize(new_shape)\n",
    "    processed_observation = np.array(img)\n",
    "    return processed_observation.astype(np.float) / 255"
   ]
  },
  {
   "cell_type": "markdown",
   "metadata": {},
   "source": [
    "# Becoming a Player\n",
    "\n",
    "Now, our agent will use Deep Q-Network (DQN) to learn how to play Pong. The details of how exactly is done will be available in following posts. For now, let's just look at some code. We will use Keras and Theano. Here's how our agent looks like:"
   ]
  },
  {
   "cell_type": "code",
   "execution_count": 5,
   "metadata": {
    "collapsed": false
   },
   "outputs": [
    {
     "name": "stderr",
     "output_type": "stream",
     "text": [
      "Using Theano backend.\n"
     ]
    }
   ],
   "source": [
    "from keras.models import Model\n",
    "from keras.layers import Convolution2D, Dense, Flatten, Input\n",
    "from keras.optimizers import RMSprop\n",
    "from keras import backend as K\n",
    "from theano.gradient import disconnected_grad\n",
    "\n",
    "class DQNAgent:\n",
    "    def __init__(self, state_size=None, number_of_actions=1,\n",
    "                 epsilon=0.1, minibatch_size=32, discount=0.9, memory=50):\n",
    "        self.state_size = state_size\n",
    "        self.number_of_actions = number_of_actions\n",
    "        self.epsilon = epsilon\n",
    "        self.minibatch_size = minibatch_size\n",
    "        self.discount = discount\n",
    "        self.memory = memory\n",
    "        self.states = []\n",
    "        self.actions = []\n",
    "        self.rewards = []\n",
    "        self.experience = []\n",
    "        self.i = 1\n",
    "        self.build_functions()\n",
    "\n",
    "    def build_model(self):\n",
    "        S = Input(shape=self.state_size)\n",
    "        h = Convolution2D(16, 8, 8, subsample=(4, 4),\n",
    "            border_mode='same', activation='relu',\n",
    "            dim_ordering='tf')(S)\n",
    "        h = Convolution2D(32, 4, 4, subsample=(2, 2),\n",
    "            border_mode='same', activation='relu',\n",
    "            dim_ordering='tf')(h)\n",
    "        h = Flatten()(h)\n",
    "        h = Dense(256, activation='relu')(h)\n",
    "        V = Dense(self.number_of_actions)(h)\n",
    "        self.model = Model(S, V)\n",
    "\n",
    "    def build_functions(self):\n",
    "        states = Input(shape=self.state_size)\n",
    "        next_states = Input(shape=self.state_size)\n",
    "        actions = Input(shape=(1,), dtype='int32')\n",
    "        rewards = Input(shape=(1,), dtype='float32')\n",
    "        transitions = Input(shape=(1,), dtype='int32')\n",
    "        self.build_model()\n",
    "        self.value_fn = K.function([states], self.model(states))\n",
    "\n",
    "        states_values = self.model(states)\n",
    "        next_states_value = disconnected_grad(self.model(next_states))\n",
    "        future_value = (1-transitions) * next_states_value.max(axis=1, keepdims=True)\n",
    "        discounted_future_value = self.discount * future_value\n",
    "        target = rewards + discounted_future_value\n",
    "        cost = ((states_values[:, actions] - target)**2).mean()\n",
    "        opt = RMSprop(0.0001)\n",
    "        params = self.model.trainable_weights\n",
    "        updates = opt.get_updates(params, [], cost)\n",
    "        self.train_fn = K.function([states, next_states, actions, rewards, transitions], cost, updates=updates)\n",
    "\n",
    "    def new_episode(self):\n",
    "        self.states.append([])\n",
    "        self.actions.append([])\n",
    "        self.rewards.append([])\n",
    "        self.states = self.states[-self.memory:]\n",
    "        self.actions = self.actions[-self.memory:]\n",
    "        self.rewards = self.rewards[-self.memory:]\n",
    "        self.i += 1\n",
    "\n",
    "    def end_episode(self):\n",
    "        pass\n",
    "\n",
    "    def act(self, state):\n",
    "        self.states[-1].append(state)\n",
    "        values = self.value_fn([state[None, :]])\n",
    "        if np.random.random() < self.epsilon:\n",
    "            action = np.random.randint(self.number_of_actions)\n",
    "        else:\n",
    "            action = values.argmax()\n",
    "        self.actions[-1].append(action)\n",
    "        return action, values\n",
    "\n",
    "    def observe(self, reward):\n",
    "        self.rewards[-1].append(reward)\n",
    "        return self._iterate()\n",
    "\n",
    "    def _iterate(self):\n",
    "        state_count = len(self.states)\n",
    "        states = np.zeros((self.minibatch_size,) + self.state_size)\n",
    "        next_states = np.zeros((self.minibatch_size,) + self.state_size)\n",
    "        actions = np.zeros((self.minibatch_size, 1), dtype=np.int32)\n",
    "        rewards = np.zeros((self.minibatch_size, 1), dtype=np.float32)\n",
    "        transitions = np.zeros((self.minibatch_size, 1), dtype=np.int32)\n",
    "        for i in range(self.minibatch_size):\n",
    "            if state_count == 1:\n",
    "                episode = 0\n",
    "            else:\n",
    "                episode = np.random.randint(max(0, state_count-50), state_count-1)\n",
    "            num_frames = len(self.states[episode])\n",
    "            if num_frames == 1:\n",
    "                frame = 0\n",
    "            else:\n",
    "                frame = np.random.randint(0, num_frames-1)\n",
    "            states[i] = self.states[episode][frame]\n",
    "            transitions[i] = 1 if frame == num_frames - 1 else 0\n",
    "            if frame < num_frames - 1:\n",
    "                next_states[i] = self.states[episode][frame+1]\n",
    "            actions[i] = self.actions[episode][frame]\n",
    "            rewards[i] = self.rewards[episode][frame]\n",
    "        cost = self.train_fn([states, next_states, actions, rewards, transitions])\n",
    "        return cost"
   ]
  },
  {
   "cell_type": "markdown",
   "metadata": {},
   "source": [
    "Main point of interest in our agent might be the `build_model` method. Our model is a Neural Network (NN) defined similarly to Deep Mind's [Human-level control through Deep Reinforcement Learning](https://deepmind.com/research/dqn/) paper. We essentially have 2 convolutional layers with RELU activation functions, 1 dense layer and 1 output layer which maps to the possible actions. Our NN expects it's input as an 80x80x3 tensor. \n",
    "\n",
    "Our DQN agent needs to know the following for successful learning:\n",
    "\n",
    "* the shape of our screen/input"
   ]
  },
  {
   "cell_type": "code",
   "execution_count": 6,
   "metadata": {
    "collapsed": true
   },
   "outputs": [],
   "source": [
    "INPUT_SHAPE = (80, 80)"
   ]
  },
  {
   "cell_type": "markdown",
   "metadata": {},
   "source": [
    "* valid actions"
   ]
  },
  {
   "cell_type": "code",
   "execution_count": 7,
   "metadata": {
    "collapsed": true
   },
   "outputs": [],
   "source": [
    "ACTIONS = [1, # Do nothing\n",
    "           2, # Up\n",
    "           3  # Down\n",
    "          ]"
   ]
  },
  {
   "cell_type": "markdown",
   "metadata": {},
   "source": [
    "* number of games/episodes to play"
   ]
  },
  {
   "cell_type": "code",
   "execution_count": 8,
   "metadata": {
    "collapsed": true
   },
   "outputs": [],
   "source": [
    "num_episodes = 10"
   ]
  },
  {
   "cell_type": "markdown",
   "metadata": {},
   "source": [
    "Now, let's create the **Gym** environment in which our agent will learn - the game of Pong. Why not seed it properly for easy result reproduction?"
   ]
  },
  {
   "cell_type": "code",
   "execution_count": 9,
   "metadata": {
    "collapsed": false
   },
   "outputs": [
    {
     "name": "stderr",
     "output_type": "stream",
     "text": [
      "[2016-09-19 18:03:47,504] Making new env: Pong-v0\n"
     ]
    }
   ],
   "source": [
    "env_name = 'Pong-v0'\n",
    "\n",
    "env = gym.make(env_name)\n",
    "env.seed(random_state);"
   ]
  },
  {
   "cell_type": "markdown",
   "metadata": {},
   "source": [
    "And here is how our agent is created:"
   ]
  },
  {
   "cell_type": "code",
   "execution_count": 10,
   "metadata": {
    "collapsed": false
   },
   "outputs": [],
   "source": [
    "agent = DQNAgent(state_size=INPUT_SHAPE + (3,), number_of_actions=len(ACTIONS))"
   ]
  },
  {
   "cell_type": "markdown",
   "metadata": {},
   "source": [
    "# Finally - The Training\n",
    "\n",
    "Our agent has a simple interface. We call the `new_episode` method when a new game is started. Then `act` is called at each step/frame of the game. We collect the reward from the environment provided by **Gym** and call `observe` on our agent for learning. We record the total reward obtained during the episode. This continues until all episodes are played."
   ]
  },
  {
   "cell_type": "code",
   "execution_count": 11,
   "metadata": {
    "collapsed": false
   },
   "outputs": [
    {
     "name": "stdout",
     "output_type": "stream",
     "text": [
      "total reward -20.0\n",
      "mean cost 0.0129376851944\n",
      "total reward -21.0\n",
      "mean cost 0.0149919423992\n",
      "total reward -21.0\n",
      "mean cost 0.0174246365408\n",
      "total reward -21.0\n",
      "mean cost 0.0179952360538\n",
      "total reward -21.0\n",
      "mean cost 0.0183682173439\n",
      "total reward -21.0\n",
      "mean cost 0.0178977580843\n",
      "total reward -21.0\n",
      "mean cost 0.0173074210411\n",
      "total reward -20.0\n",
      "mean cost 0.0174804769989\n",
      "total reward -21.0\n",
      "mean cost 0.0170642916445\n",
      "total reward -21.0\n",
      "mean cost 0.0173520318394\n"
     ]
    }
   ],
   "source": [
    "for _ in range(num_episodes):\n",
    "    observation = env.reset()\n",
    "    done = False\n",
    "    agent.new_episode()\n",
    "    total_cost = 0.0\n",
    "    total_reward = 0.0\n",
    "    frame = 0\n",
    "    while not done:\n",
    "        frame += 1\n",
    "#         env.render()\n",
    "        action, values = agent.act(downsample(observation))\n",
    "        observation, reward, done, info = env.step(action + 1)\n",
    "        total_cost += agent.observe(reward)\n",
    "        total_reward += reward\n",
    "    agent.end_episode()\n",
    "    print(\"total reward\", total_reward)\n",
    "    print(\"mean cost\", total_cost/frame)"
   ]
  },
  {
   "cell_type": "markdown",
   "metadata": {},
   "source": [
    "After 10 episodes of training our agent did not seem to improve. Will training for longer (6+ hours) be beneficial?"
   ]
  }
 ],
 "metadata": {
  "kernelspec": {
   "display_name": "Python 3",
   "language": "python",
   "name": "python3"
  },
  "language_info": {
   "codemirror_mode": {
    "name": "ipython",
    "version": 3
   },
   "file_extension": ".py",
   "mimetype": "text/x-python",
   "name": "python",
   "nbconvert_exporter": "python",
   "pygments_lexer": "ipython3",
   "version": "3.5.1"
  }
 },
 "nbformat": 4,
 "nbformat_minor": 1
}

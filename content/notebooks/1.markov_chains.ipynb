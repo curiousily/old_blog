{
 "cells": [
  {
   "cell_type": "markdown",
   "metadata": {},
   "source": [
    "You always wanted to lose those last couple of pounds/kilos, right? So you started working out. But somedays things do not go as planned. Today I will workout, you say. But will you really do it?\n",
    "\n",
    "Let's say for any given day you can do one of three things - workout, rest or procrastinate. That is to say that there are days that you say you will workout but somehow you don't (mysterious things happen, huh?).\n",
    "\n",
    "That seems curious. Will you workout tomorrow?\n",
    "\n",
    "# What is a Markov Chain? (Finite state space)\n",
    "\n",
    "Markov chain is a random process which goes from one state to another over a finite space $S$. Usually the transitions happen at discrete points in time (Discrete-time Markov Chain). Each Markov Chain has associated a transition matrix $P$ which specifies the probabilities of transitioning from each state $s$ to another state $s'$. \n",
    "\n",
    "**Quick example**: Transition matrix gives the probabilities that you will eat chicken, fish or chocolate tomorrow given that you ate chicken today.\n",
    "\n",
    "## Markov Chain properties\n",
    "\n",
    "### Markov property\n",
    "\n",
    "The past and future are independent given the present. Another way to put is this: To know what future holds we only need to know the present. The past is irrelevant.\n",
    "\n",
    "This property is also known as the **memoryless property**. That is to say that the Markov chain does not remember it's past.\n",
    "\n",
    "### Time homogeneity\n",
    "\n",
    "If the transition matrix $P$ does not change at any time step $t$ the chain is Time homogenous. More formally, a Markov Chain is time homogenous if $P(X_k = i | X_{k-1} = j)$ is independent of k.\n",
    "\n",
    "# Does anyone use them for real?\n",
    "\n",
    "\n",
    "One application of Markov Chains that you probably use on daily bases is Google's PageRank algorithm. First Google predict a set of sites you might be interested in. Then a probability for going to each page is determined given your current history (think where you've been/searched for recently). The results are sorted for you according to the obtained probabilities.\n",
    "\n",
    "Where else? Turns out a lot of people have been and still use them. [Take a look here](http://www.cs.uml.edu/ecg/uploads/AIfall14/MDPApplications3.pdf). Cool right? For a more in-depth use at Google [take a look here](http://www.math.bas.bg/~jeni/Rebecca_Atherton.pdf).\n",
    "\n",
    "\n",
    "# How to solve it (using Python)\n",
    "\n",
    "But let's get back to our example. The question posed at the beginning still remains: will you workout tomorrow?\n",
    "\n",
    "Suppose your transition matrix $P$ is (how do you determine that for yourself?):\n",
    "\n",
    "\\begin{bmatrix}\n",
    "    0.05 & 0.8 & 0.15 \\\\\n",
    "    0.3 & 0.2 & 0.5 \\\\\n",
    "    0.55 & 0.05 & 0.4\n",
    "\\end{bmatrix}\n",
    "\n",
    "Our $P$ tells us that (watching at the first row) given that you went to the gym today you have 0.1 probability of going to the gym , 0.8 probability of resting  and 0.1 probability of procrastinating tomorrow.\n",
    "\n",
    "## Setup\n",
    "\n",
    "You will need matplotlib, seaborn, numpy and scipy for this one. Go ahead and install them using *pip* if you haven't done so already.\n"
   ]
  },
  {
   "cell_type": "code",
   "execution_count": 1,
   "metadata": {
    "collapsed": true
   },
   "outputs": [],
   "source": [
    "%matplotlib inline\n",
    "import matplotlib.pyplot as plt\n",
    "import seaborn as sns\n",
    "import numpy as np\n",
    "import scipy\n",
    "plt.rcParams['figure.figsize'] = (12, 8)"
   ]
  },
  {
   "cell_type": "markdown",
   "metadata": {},
   "source": [
    "\n",
    "## Prediction function\n",
    "\n",
    "\n",
    "The following function gives us the probabilities for each state after completing *step_count* steps of simulation. The distribution at time $t$ of a Markov chain is given by:\n",
    "\n",
    "$$\\pi(t + 1) = \\pi(t) * P \\\\= (\\pi(t - 1) * P) * P \\\\= \\pi(1) * P^t$$\n",
    "\n",
    "where $\\pi$ is the vector of probabilities after completing $t$ steps of the simulation and $P$ is the transition matrix.\n"
   ]
  },
  {
   "cell_type": "code",
   "execution_count": 2,
   "metadata": {
    "collapsed": false
   },
   "outputs": [],
   "source": [
    "def run_chain(P, initial_state, step_count=15):\n",
    "    res = []\n",
    "    P = np.array(P)\n",
    "    p_star = np.array(initial_state)\n",
    "    for i in range(1, step_count + 1):\n",
    "        print(\"at step:\", i, \"pi:\", p_star)\n",
    "        p_star = p_star.dot(P)\n",
    "        res.append(p_star)\n",
    "    return res"
   ]
  },
  {
   "cell_type": "markdown",
   "metadata": {},
   "source": [
    "## Let's solve it\n",
    "\n",
    "We use our transition matrix $P$ described above and specify that today you've been at the gym. Then simply run the magic!\n"
   ]
  },
  {
   "cell_type": "code",
   "execution_count": 3,
   "metadata": {
    "collapsed": false
   },
   "outputs": [
    {
     "name": "stdout",
     "output_type": "stream",
     "text": [
      "at step: 1 pi: [1 0 0]\n",
      "at step: 2 pi: [ 0.05  0.8   0.15]\n",
      "at step: 3 pi: [ 0.325   0.2075  0.4675]\n",
      "at step: 4 pi: [ 0.335625  0.324875  0.3395  ]\n",
      "at step: 5 pi: [ 0.30096875  0.35045     0.34858125]\n",
      "at step: 6 pi: [ 0.31190313  0.32829406  0.35980281]\n",
      "at step: 7 pi: [ 0.31197492  0.33317145  0.35485363]\n",
      "at step: 8 pi: [ 0.31071968  0.33395691  0.35532341]\n",
      "at step: 9 pi: [ 0.31115093  0.33313329  0.35571577]\n",
      "at step: 10 pi: [ 0.31114121  0.3333332   0.3555256 ]\n",
      "at step: 11 pi: [ 0.3110961   0.33335589  0.35554802]\n",
      "at step: 12 pi: [ 0.31111298  0.33332546  0.35556156]\n",
      "at step: 13 pi: [ 0.31111215  0.33333355  0.3555543 ]\n",
      "at step: 14 pi: [ 0.31111054  0.33333414  0.35555532]\n",
      "at step: 15 pi: [ 0.3111112   0.33333303  0.35555578]\n",
      "at step: 16 pi: [ 0.31111115  0.33333335  0.3555555 ]\n",
      "at step: 17 pi: [ 0.31111109  0.33333336  0.35555555]\n",
      "at step: 18 pi: [ 0.31111111  0.33333332  0.35555556]\n",
      "at step: 19 pi: [ 0.31111111  0.33333333  0.35555555]\n",
      "at step: 20 pi: [ 0.31111111  0.33333333  0.35555556]\n"
     ]
    }
   ],
   "source": [
    "P = [[.05, .8, .15], \n",
    "     [.3, .2, .5], \n",
    "     [.55, .05, .4]]\n",
    "\n",
    "initial = [1, 0, 0]\n",
    "\n",
    "step_count = 20\n",
    "\n",
    "res = run_chain(P, initial_state=initial, step_count=step_count)"
   ]
  },
  {
   "cell_type": "markdown",
   "metadata": {},
   "source": [
    "## Results\n",
    "\n",
    "So we ran our chain for 20 steps and it seems like after step 10 or so the resulting probabilities haven't changed much. So, will you workout after 20 days?"
   ]
  },
  {
   "cell_type": "code",
   "execution_count": 4,
   "metadata": {
    "collapsed": false
   },
   "outputs": [
    {
     "data": {
      "image/png": "[encoded data removed]",
      "text/plain": [
       "<matplotlib.figure.Figure at 0x10c8c15c0>"
      ]
     },
     "metadata": {},
     "output_type": "display_data"
    }
   ],
   "source": [
    "workout = [r[0] for r in res]\n",
    "\n",
    "plt.ylim(0.0, 1.0)\n",
    "plt.xlim(0, step_count + 2)\n",
    "\n",
    "plt.scatter(range(1, step_count+1), workout, color='r')\n",
    "\n",
    "plt.title(\"Probability of working out after \" + str(step_count) + \" steps of simulation\")\n",
    "plt.xlabel(\"Steps\")\n",
    "plt.ylabel(\"Probability\");"
   ]
  },
  {
   "cell_type": "markdown",
   "metadata": {},
   "source": [
    "Hmm, seems like your probability of working out after 20 days is around 31%. Anything to say in your defence?\n",
    "\n",
    "Ok, you want to know what is more likely to do after 20 days given you've worked out today?"
   ]
  },
  {
   "cell_type": "code",
   "execution_count": 5,
   "metadata": {
    "collapsed": false
   },
   "outputs": [
    {
     "data": {
      "image/png": "[encoded data removed]",
      "text/plain": [
       "<matplotlib.figure.Figure at 0x10c954d68>"
      ]
     },
     "metadata": {},
     "output_type": "display_data"
    }
   ],
   "source": [
    "rest = [r[1] for r in res]\n",
    "procrastinate = [r[2] for r in res]\n",
    "\n",
    "plt.ylim(0.0, 1.0)\n",
    "plt.xlim(0, step_count + 2)\n",
    "\n",
    "xs = range(1, step_count+1)\n",
    "\n",
    "w = plt.scatter(xs, workout, color='r')\n",
    "r = plt.scatter(xs, rest, color='g')\n",
    "p = plt.scatter(xs, procrastinate, color='b')\n",
    "\n",
    "plt.title(\"Probability of being in each state after \" + str(step_count) + \" steps of simulation\")\n",
    "plt.xlabel(\"Steps\")\n",
    "plt.ylabel(\"Probability\")\n",
    "plt.legend([w, r, p], ['Workout', 'Rest', 'Procrastinate']);"
   ]
  },
  {
   "cell_type": "markdown",
   "metadata": {},
   "source": [
    "Hmm, looks like you might procrastinate after all! But how? Haven't you worked out today? Let's say today you don't know what you'll do and assign equal probabilities to each possible state."
   ]
  },
  {
   "cell_type": "code",
   "execution_count": 6,
   "metadata": {
    "collapsed": false
   },
   "outputs": [
    {
     "name": "stdout",
     "output_type": "stream",
     "text": [
      "at step: 1 pi: [ 0.3333  0.3333  0.3333]\n",
      "at step: 2 pi: [ 0.29997   0.349965  0.349965]\n",
      "at step: 3 pi: [ 0.31246875  0.32746725  0.359964  ]\n",
      "at step: 4 pi: [ 0.31184381  0.33346665  0.35458954]\n",
      "at step: 5 pi: [ 0.31065643  0.33389786  0.35534571]\n",
      "at step: 6 pi: [ 0.31114232  0.333072    0.35568568]\n",
      "at step: 7 pi: [ 0.31110584  0.33331254  0.35548162]\n",
      "at step: 8 pi: [ 0.31106395  0.33332126  0.35551479]\n",
      "at step: 9 pi: [ 0.31108271  0.33329115  0.35552614]\n",
      "at step: 10 pi: [ 0.31108086  0.33330071  0.35551844]\n",
      "at step: 11 pi: [ 0.31107939  0.33330075  0.35551986]\n",
      "at step: 12 pi: [ 0.31108012  0.33329966  0.35552023]\n",
      "at step: 13 pi: [ 0.31108003  0.33330004  0.35551994]\n",
      "at step: 14 pi: [ 0.31107998  0.33330003  0.35552   ]\n",
      "at step: 15 pi: [ 0.31108     0.33329999  0.35552001]\n",
      "at step: 16 pi: [ 0.31108  0.3333   0.35552]\n",
      "at step: 17 pi: [ 0.31108  0.3333   0.35552]\n",
      "at step: 18 pi: [ 0.31108  0.3333   0.35552]\n",
      "at step: 19 pi: [ 0.31108  0.3333   0.35552]\n",
      "at step: 20 pi: [ 0.31108  0.3333   0.35552]\n"
     ]
    }
   ],
   "source": [
    "P = [[.05, .8, .15], \n",
    "     [.3, .2, .5], \n",
    "     [.55, .05, .4]]\n",
    "\n",
    "initial = [.3333, .3333, .3333]\n",
    "\n",
    "step_count = 20\n",
    "\n",
    "res = run_chain(P, initial_state=initial, step_count=step_count)"
   ]
  },
  {
   "cell_type": "markdown",
   "metadata": {},
   "source": [
    "Isn't that strange? Almost the same results? It looks like it doesn't matter where you start given enough days have passed.\n",
    "\n",
    "# Going down the rabbit hole\n",
    "\n",
    "To understand this peculiarity we need just a bit more theory\n",
    "\n",
    "## Irreducibility\n",
    "\n",
    "A Markov Chain $(X_0, X_1, ...)$ with state space $S = \\{s_1, ..., s_k\\}$ and transition matrix $P$ is **irreducible** (or **ergodic**) if for all $s_i, s_j \\in S$ we have that $s_i \\leftrightarrow s_j$. Otherwise it is **reducible**.\n",
    "\n",
    "In other words, if a way to go from state $s$ to state $s'$ does not exist, the chain can be reduced to one or more smaller chains.\n",
    "\n",
    "## Periodicity\n",
    "\n",
    "The period $d(s_i)$ of state $s_i \\in S$ is defined as\n",
    "\n",
    "$$d(s_i) = gcd\\{n \\geq 1 : (P^n)_{i,i}>0)\\}$$\n",
    "\n",
    "In other words, the period of a state is an integer which defines the step multiples at which the chain can return to the state.\n",
    "\n",
    "A state is periodic if the chain can return to the state only at multiples of some integer larger than 1. Otherwise it is aperiodic.\n",
    "\n",
    "## Aperiodic Markov Chain\n",
    "\n",
    "A Markov Chain is aperiodic if all its states are aperiodic. Otherwise the chain is said to be periodic.\n",
    "\n",
    "## Stationary distribution for Markov Chain\n",
    "\n",
    "Given irreducible and aperiodic Markov Chain $(X_0, X_1,...)$ with state space $\\{s_1, ..., s_k\\}$ and transition matrix $P$ a row vector $\\pi = (\\pi_1,...,\\pi_k)$ is stationary distribution for the Markov Chain, if it satisfies\n",
    "\n",
    "$$(1)\\> \\pi_i \\geq 0 \\> \\text{for} \\> i=1,...,k, \\text{and} \\sum_{i=1}^{k}\\pi_i=1$$\n",
    "$$(2)\\> \\pi P = \\pi, \\sum_{i=1}^{k}\\pi_i P_{i,j}=\\pi_j \\>\\text{for}\\> j=1,...,k$$\n",
    "\n",
    "Property (1) means that $pi$ should describe probability on $\\{s_1, ..., s_k\\}$. Property (2) implies that if the initial distribution $\\mu^{(0)}=pi$, then the distribution $\\mu^{(1)}$ of the chain at time $t=1$ satisfies\n",
    "\n",
    "$$\\mu^{(1)}=\\mu^{(0)}P=\\pi P = \\pi$$\n",
    "\n",
    "and by iterating $\\mu^{(n)}=\\pi$ for every $n$. This is called the **Power Method** and it eventually converges for large enough $n$ (whatever that means in practice).\n",
    "\n",
    "### Theorem 1 (Existence of stationary distributions)\n",
    "\n",
    "For any irreducible and aperiodic Markov Chain, there exists at least one stationary distribution.\n",
    "\n",
    "### Lemma 1\n",
    "\n",
    "Every state in an irreducible Markov Chain has the same period. Thus, in an irreducible Markov Chain, if one state is aperiodic, the the Markov Chain is aperiodic."
   ]
  },
  {
   "cell_type": "markdown",
   "metadata": {},
   "source": [
    "# Back to working out\n",
    "\n",
    "So is our transition matrix $P$ irreducible and aperiodic?\n",
    "\n",
    "## Irreducible\n",
    "\n",
    "Our matrix is simple enough so we can see (proof by visual inspection?) that we can to any state from any state. Thus, our matrix is irreducible.\n",
    "\n",
    "## Aperiodic\n",
    "\n",
    "Given the *lemma 1* above and that our Chain is irreducible we have to find only one state which is aperiodic. Let's consider the state in which we worked out today. The number of states you have to visit before you visit our start state again could be $1, 2, 3, ...$. It will happen with probability greater than 0. So $d(workout) = 1$. This means that state workout is aperiodic. Which means that our Markov Chain is aperiodic.\n",
    "\n",
    "## Stationary distribution for $P$"
   ]
  },
  {
   "cell_type": "markdown",
   "metadata": {},
   "source": [
    "According to [wikipedia](https://en.wikipedia.org/wiki/Stochastic_matrix#Definition_and_properties) a stationary probability vector is defined as vector that does not change under application of the transition matrix $P$. That is, it is defined as a left eigenvector of the probability matrix, associated with eigenvalue 1.\n",
    "\n",
    "So let's use *scipy* to find out the left eigenvector and the stationary distribution:"
   ]
  },
  {
   "cell_type": "code",
   "execution_count": 7,
   "metadata": {
    "collapsed": false
   },
   "outputs": [
    {
     "data": {
      "text/plain": [
       "array([ 0.31111111,  0.33333333,  0.35555556])"
      ]
     },
     "execution_count": 7,
     "metadata": {},
     "output_type": "execute_result"
    }
   ],
   "source": [
    "_, v = scipy.linalg.eig(np.array(P), left=True, right=False)\n",
    "v = v[:,0].real\n",
    "p_stationary = v/sum(v)\n",
    "p_stationary"
   ]
  },
  {
   "cell_type": "markdown",
   "metadata": {},
   "source": [
    "We used two different approaches to arrive at the stationary distribution for $P$ and they both gives us (almost) same results. It was rather unclear how much iterations we must do before our algorithm converges using the **Power Method**. Our second approach seems a bit more clean and easy to use (yes, we are using Scipy after all). Which one do you prefer and why?\n",
    "\n",
    "Now you know how likely you are to workout on any given day. And yes, you know more than that!"
   ]
  },
  {
   "cell_type": "markdown",
   "metadata": {},
   "source": [
    "# Extract text and generate amusing quotes\n",
    "\n",
    "## TODO"
   ]
  },
  {
   "cell_type": "markdown",
   "metadata": {},
   "source": [
    "Additional questions to consider:\n",
    "\n",
    "* What happens if there are no defined time steps i.e. the Markov Chain is continious?\n",
    "* How do you find the transition matrix $P$?\n",
    "* What are the advantages/disadvantages of using one of the methods used for finding the stationary distribution of $P$\n",
    "* What if you have only the outcomes of a random process but not the transition matrix $P$? Hint: HMM\n",
    "* What sampling methods exist for sampling from the transition matrix $P$?\n",
    "* Can the framework of states and transition probabilities be extended to something more?"
   ]
  },
  {
   "cell_type": "markdown",
   "metadata": {},
   "source": [
    "# References\n",
    "\n",
    "* [Markov Chains usage in the wild](https://www.facebook.com/BusinessStatisticsAndResearchMethodologybsrm/posts/488699004510988)\n",
    "* [Really great tutorial on finite Markov Chains by Quant-Econ](http://quant-econ.net/py/finite_markov.html)\n",
    "* [Great Linear Algebra Review regarding eigenvectors](https://people.csail.mit.edu/ronitt/COURSE/S12/handouts/lec8.pdf)\n",
    "* [Layman explanations of what a Markov Chain is (on Reddit)](https://www.reddit.com/r/explainlikeimfive/comments/1tnjck/eli5_markov_chains/)"
   ]
  }
 ],
 "metadata": {
  "kernelspec": {
   "display_name": "Python 3",
   "language": "python",
   "name": "python3"
  },
  "language_info": {
   "codemirror_mode": {
    "name": "ipython",
    "version": 3
   },
   "file_extension": ".py",
   "mimetype": "text/x-python",
   "name": "python",
   "nbconvert_exporter": "python",
   "pygments_lexer": "ipython3",
   "version": "3.5.1"
  }
 },
 "nbformat": 4,
 "nbformat_minor": 0
}
